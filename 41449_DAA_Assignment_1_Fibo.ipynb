{
 "cells": [
  {
   "cell_type": "code",
   "execution_count": 70,
   "id": "5c7b2fdc",
   "metadata": {
    "scrolled": true
   },
   "outputs": [
    {
     "name": "stdout",
     "output_type": "stream",
     "text": [
      "Enter N: 10\n",
      "0 (0, 0)\n",
      "1 (1, 1)\n",
      "2 (1, 1)\n",
      "3 (2, 2)\n",
      "4 (3, 3)\n",
      "5 (5, 5)\n",
      "6 (8, 8)\n",
      "7 (13, 13)\n",
      "8 (21, 21)\n",
      "9 (34, 34)\n",
      "0, 1, 1, 2, 3, 5, 8, 13, 21"
     ]
    }
   ],
   "source": [
    "def fibo_recursive(n):\n",
    "    if n==0:\n",
    "        return 0\n",
    "    elif n==1:\n",
    "        return 1\n",
    "    else:\n",
    "        return fibo_recursive(n-1)+fibo_recursive(n-2)\n",
    "def fibo_interative(n):\n",
    "    if n==0:\n",
    "        return 0\n",
    "    else:\n",
    "        a = 1\n",
    "        b = 1\n",
    "        for i in range(n-2):\n",
    "            t = a\n",
    "            a = b\n",
    "            b = b+t\n",
    "        return b\n",
    "N = int(input(\"Enter N: \"))\n",
    "for i in range(0,N):\n",
    "    print(i,(fibo_recursive(i),fibo_interative(i)))\n",
    "print(fibo_interative(0),end=\"\")\n",
    "for i in range(1,i):\n",
    "    print(\",\",fibo_interative(i),end=\"\")"
   ]
  },
  {
   "cell_type": "code",
   "execution_count": 72,
   "id": "0d862de0",
   "metadata": {},
   "outputs": [],
   "source": [
    "# Iterative: \n",
    "# Space Complexity O(1)\n",
    "# Time Complexity O(n)\n",
    "# Recursive:\n",
    "# Space Complexity O(n)\n",
    "# Time Complexity O(2^n)"
   ]
  },
  {
   "cell_type": "code",
   "execution_count": null,
   "id": "6bfe0547",
   "metadata": {},
   "outputs": [],
   "source": []
  }
 ],
 "metadata": {
  "kernelspec": {
   "display_name": "Python 3 (ipykernel)",
   "language": "python",
   "name": "python3"
  },
  "language_info": {
   "codemirror_mode": {
    "name": "ipython",
    "version": 3
   },
   "file_extension": ".py",
   "mimetype": "text/x-python",
   "name": "python",
   "nbconvert_exporter": "python",
   "pygments_lexer": "ipython3",
   "version": "3.8.10"
  }
 },
 "nbformat": 4,
 "nbformat_minor": 5
}
