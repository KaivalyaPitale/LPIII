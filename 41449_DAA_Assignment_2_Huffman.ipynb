{
 "cells": [
  {
   "cell_type": "code",
   "execution_count": 1,
   "id": "73f4ec7a",
   "metadata": {
    "scrolled": true
   },
   "outputs": [
    {
     "name": "stdout",
     "output_type": "stream",
     "text": [
      "hello\n",
      "['e', 'l', 'oh']\n",
      "['oh', 'el']\n",
      "['ohel']\n",
      "o -> 00\n",
      "h -> 01\n",
      "e -> 10\n",
      "l -> 11\n"
     ]
    }
   ],
   "source": [
    "class node:\n",
    "    def __init__(self, freq, symbol, left=None, right=None):\n",
    "        self.freq = freq\n",
    "        self.symbol = symbol\n",
    "        self.left = left\n",
    "        self.right = right\n",
    "        self.huff = ''\n",
    "final_codes = dict()\n",
    "def printNodes(node, val=''):\n",
    "    newVal = val + str(node.huff)\n",
    "    if(node.left):\n",
    "        printNodes(node.left, newVal)\n",
    "    if(node.right):\n",
    "        printNodes(node.right, newVal)\n",
    "    if(not node.left and not node.right):\n",
    "        print(f\"{node.symbol} -> {newVal}\")\n",
    "        final_codes[node.symbol] = newVal\n",
    "        \n",
    "def print_nodes(L):\n",
    "    l = []\n",
    "    for i in L:\n",
    "        l.append(i.symbol)\n",
    "    print(l)\n",
    "\n",
    "\n",
    "string = input()\n",
    "chars = list(set(list(string)))\n",
    "freq = []\n",
    "if len(chars) == 1:\n",
    "    final_codes = {chars[0]:\"0\"}\n",
    "else:\n",
    "    for i in chars:\n",
    "        freq.append(string.count(i))\n",
    "    nodes = []\n",
    "    for x in range(len(chars)):\n",
    "        nodes.append(node(freq[x], chars[x]))\n",
    "    while len(nodes) > 1:\n",
    "        nodes = sorted(nodes, key=lambda x: x.freq)\n",
    "        left = nodes[0]\n",
    "        right = nodes[1]\n",
    "        left.huff = 0\n",
    "        right.huff = 1\n",
    "        newNode = node(left.freq+right.freq, left.symbol+right.symbol, left, right)\n",
    "        nodes.remove(left)\n",
    "        nodes.remove(right)\n",
    "        nodes.append(newNode)\n",
    "        print_nodes(nodes)\n",
    "    printNodes(nodes[0])"
   ]
  },
  {
   "cell_type": "code",
   "execution_count": 2,
   "id": "31d752d3",
   "metadata": {},
   "outputs": [
    {
     "data": {
      "text/plain": [
       "{'o': '00', 'h': '01', 'e': '10', 'l': '11'}"
      ]
     },
     "execution_count": 2,
     "metadata": {},
     "output_type": "execute_result"
    }
   ],
   "source": [
    "final_codes"
   ]
  },
  {
   "cell_type": "code",
   "execution_count": 3,
   "id": "477e313c",
   "metadata": {},
   "outputs": [
    {
     "data": {
      "text/plain": [
       "{'00': 'o', '01': 'h', '10': 'e', '11': 'l'}"
      ]
     },
     "execution_count": 3,
     "metadata": {},
     "output_type": "execute_result"
    }
   ],
   "source": [
    "encoder = {v: k for k, v in final_codes.items()}\n",
    "encoder"
   ]
  },
  {
   "cell_type": "code",
   "execution_count": 4,
   "id": "e1ee4441",
   "metadata": {},
   "outputs": [
    {
     "data": {
      "text/plain": [
       "'hello'"
      ]
     },
     "execution_count": 4,
     "metadata": {},
     "output_type": "execute_result"
    }
   ],
   "source": [
    "string"
   ]
  },
  {
   "cell_type": "code",
   "execution_count": 5,
   "id": "26e4840f",
   "metadata": {},
   "outputs": [
    {
     "data": {
      "text/plain": [
       "'0110111100'"
      ]
     },
     "execution_count": 5,
     "metadata": {},
     "output_type": "execute_result"
    }
   ],
   "source": [
    "for i in string:\n",
    "    string = string.replace(i, final_codes[i])\n",
    "string"
   ]
  },
  {
   "cell_type": "code",
   "execution_count": 6,
   "id": "68bfa464",
   "metadata": {},
   "outputs": [
    {
     "name": "stdout",
     "output_type": "stream",
     "text": [
      "hello\n"
     ]
    }
   ],
   "source": [
    "decoded_string = \"\"\n",
    "temp = \"\"\n",
    "for i in range(len(string)):\n",
    "    temp = temp + string[i]\n",
    "    if temp in encoder:\n",
    "        decoded_string = decoded_string + encoder[temp]\n",
    "        temp = \"\"\n",
    "    else:\n",
    "        pass\n",
    "print(decoded_string)"
   ]
  },
  {
   "cell_type": "code",
   "execution_count": null,
   "id": "fcecd62d",
   "metadata": {},
   "outputs": [],
   "source": []
  },
  {
   "cell_type": "code",
   "execution_count": null,
   "id": "da90bfdd",
   "metadata": {},
   "outputs": [],
   "source": []
  },
  {
   "cell_type": "code",
   "execution_count": null,
   "id": "854b4f11",
   "metadata": {},
   "outputs": [],
   "source": []
  }
 ],
 "metadata": {
  "kernelspec": {
   "display_name": "Python 3 (ipykernel)",
   "language": "python",
   "name": "python3"
  },
  "language_info": {
   "codemirror_mode": {
    "name": "ipython",
    "version": 3
   },
   "file_extension": ".py",
   "mimetype": "text/x-python",
   "name": "python",
   "nbconvert_exporter": "python",
   "pygments_lexer": "ipython3",
   "version": "3.8.10"
  }
 },
 "nbformat": 4,
 "nbformat_minor": 5
}
