{
 "cells": [
  {
   "cell_type": "code",
   "execution_count": 29,
   "id": "140d5aad",
   "metadata": {},
   "outputs": [
    {
     "name": "stdout",
     "output_type": "stream",
     "text": [
      "unsortd array: [67, 53, 37, 5, 80, 97, 81, 47, 26, 36, 57, 88, 91, 85, 14, 14]\n",
      "sorted array:  [5, 14, 14, 26, 36, 37, 47, 53, 57, 67, 80, 81, 85, 88, 91, 97]\n"
     ]
    }
   ],
   "source": [
    "import random\n",
    "\n",
    "\n",
    "def quicksort(arr, start, stop):\n",
    "    if(start < stop):\n",
    "        pivotindex = partitionrand(arr, start, stop)\n",
    "        quicksort(arr , start , pivotindex)\n",
    "        quicksort(arr, pivotindex + 1, stop)\n",
    "        \n",
    "def partitionrand(arr , start, stop):\n",
    "    randpivot = random.randrange(start, stop)\n",
    "    arr[start], arr[randpivot] = arr[randpivot], arr[start]\n",
    "    return partition(arr, start, stop)\n",
    "\n",
    "def partition(arr,start,stop):\n",
    "    pivot = start\n",
    "    i = start - 1\n",
    "    j = stop + 1\n",
    "    while True:\n",
    "        #print(arr)\n",
    "        while True:\n",
    "            i = i + 1\n",
    "            if arr[i] >= arr[pivot]:\n",
    "                break\n",
    "        while True:\n",
    "            j = j - 1\n",
    "            if arr[j] <= arr[pivot]:\n",
    "                break\n",
    "        if i >= j:\n",
    "            return j\n",
    "        arr[i] , arr[j] = arr[j] , arr[i]\n",
    "        \n",
    "\n",
    "if __name__ == \"__main__\":\n",
    "    L = []\n",
    "    for i in range(16):\n",
    "        L.append(random.randint(0, 100))\n",
    "    print(\"unsortd array:\", L)\n",
    "    quicksort(L, 0, len(L) - 1)\n",
    "    print(\"sorted array: \", L)"
   ]
  },
  {
   "cell_type": "code",
   "execution_count": null,
   "id": "08f7fa5d",
   "metadata": {},
   "outputs": [],
   "source": []
  }
 ],
 "metadata": {
  "kernelspec": {
   "display_name": "Python 3 (ipykernel)",
   "language": "python",
   "name": "python3"
  },
  "language_info": {
   "codemirror_mode": {
    "name": "ipython",
    "version": 3
   },
   "file_extension": ".py",
   "mimetype": "text/x-python",
   "name": "python",
   "nbconvert_exporter": "python",
   "pygments_lexer": "ipython3",
   "version": "3.8.10"
  }
 },
 "nbformat": 4,
 "nbformat_minor": 5
}
